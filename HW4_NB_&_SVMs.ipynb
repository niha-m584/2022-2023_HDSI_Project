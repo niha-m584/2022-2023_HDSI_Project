{
  "cells": [
    {
      "cell_type": "markdown",
      "metadata": {
        "id": "bHQx6TDJ7gY4"
      },
      "source": [
        "# Homework 4\n",
        "In this assignment, we will be building a Naïve Bayes classifier and a SVM model for the productivity satisfaction of [the given dataset](https://archive.ics.uci.edu/ml/datasets/Productivity+Prediction+of+Garment+Employees), the productivity of garment employees.\n",
        "\n",
        "## Background\n",
        "The Garment Industry is one of the key examples of the industrial globalization of this modern era. It is a highly labour-intensive industry with lots of manual processes. Satisfying the huge global demand for garment products is mostly dependent on the production and delivery performance of the employees in the garment manufacturing companies. So, it is highly desirable among the decision makers in the garments industry to track, analyse and predict the productivity performance of the working teams in their factories.\n",
        "\n",
        "## Dataset Attribute Information\n",
        "\n",
        "1. **date**: Date in MM-DD-YYYY\n",
        "2. **day**: Day of the Week\n",
        "3. **quarter** : A portion of the month. A month was divided into four quarters\n",
        "4. **department** : Associated department with the instance\n",
        "5. **team_no** : Associated team number with the instance\n",
        "6. **no_of_workers** : Number of workers in each team\n",
        "7. **no_of_style_change** : Number of changes in the style of a particular product\n",
        "8. **targeted_productivity** : Targeted productivity set by the Authority for each team for each day.\n",
        "9. **smv** : Standard Minute Value, it is the allocated time for a task\n",
        "10. **wip** : Work in progress. Includes the number of unfinished items for products\n",
        "11. **over_time** : Represents the amount of overtime by each team in minutes\n",
        "12. **incentive** : Represents the amount of financial incentive (in BDT) that enables or motivates a particular course of action.\n",
        "13. **idle_time** : The amount of time when the production was interrupted due to several reasons\n",
        "14. **idle_men** : The number of workers who were idle due to production interruption\n",
        "15. **actual_productivity** : The actual % of productivity that was delivered by the workers. It ranges from 0-1.\n",
        "\n",
        "### Libraries that can be used: numpy, scipy, pandas, scikit-learn, cvxpy, imbalanced-learn\n",
        "Any libraries used in the discussion materials are also allowed.\n",
        "\n",
        "#### Other Notes\n",
        "\n",
        " - Don't worry about not being able to achieve high accuracy, it is neither the goal nor the grading standard of this assignment. <br >\n",
        " - If not specified, you are not required to do hyperparameter tuning, but feel free to do so if you'd like.\n",
        "\n",
        "#### Trouble Shooting\n",
        "In case you have trouble installing and using imbalanced-learn(imblearn) <br >\n",
        "Run the below code cell, then go to the selection bar at top: Kernel > Restart. <br >\n",
        "Then try `import imblearn` to see if things work."
      ]
    },
    {
      "cell_type": "code",
      "source": [
        "import platform\n",
        "display(platform.system())\n",
        "import os\n",
        "file_download_link = 'https://www.dropbox.com/scl/fi/j1dxtqjerbdbl81e05nvp/hw4data.zip?rlkey=8mkxz4j8lngziok6on782a8u4&dl=0'\n",
        "if os.name == 'nt':\n",
        "    print('Please download your dataset here:', file_download_link)\n",
        "else:\n",
        "    # We need to first download the data here:\n",
        "    !wget -O data.zip \"$file_download_link\" -o /dev/null\n",
        "    !unzip data.zip > /dev/null"
      ],
      "metadata": {
        "id": "v-KORp1-961U",
        "outputId": "0fd1379f-0c8b-4f56-c079-1bfbbfff73ff",
        "colab": {
          "base_uri": "https://localhost:8080/",
          "height": 35
        }
      },
      "execution_count": null,
      "outputs": [
        {
          "output_type": "display_data",
          "data": {
            "text/plain": [
              "'Linux'"
            ],
            "application/vnd.google.colaboratory.intrinsic+json": {
              "type": "string"
            }
          },
          "metadata": {}
        }
      ]
    },
    {
      "cell_type": "code",
      "source": [
        "!sed 's/,/\\t/g' garments_worker_productivity.csv > garments_worker_productivity.tsv"
      ],
      "metadata": {
        "id": "zAn5IT0BKu28"
      },
      "execution_count": null,
      "outputs": []
    },
    {
      "cell_type": "code",
      "source": [
        "# If your data is on google drive then uncomment the code below to access\n",
        "# your google drive.\n",
        "#from google.colab import drive\n",
        "#drive.mount('/content/drive')"
      ],
      "metadata": {
        "id": "JRujZpIb-cTG"
      },
      "execution_count": null,
      "outputs": []
    },
    {
      "cell_type": "code",
      "execution_count": null,
      "metadata": {
        "id": "uXvnD44V7gY7"
      },
      "outputs": [],
      "source": [
        "# Install a pip package in the current Jupyter kernel\n",
        "import sys\n",
        "!{sys.executable} -m pip install imbalanced-learn delayed"
      ]
    },
    {
      "cell_type": "markdown",
      "metadata": {
        "id": "nA-scNoo7gY8"
      },
      "source": [
        "# Exercises\n",
        "\n",
        "## Exercise 1 - General Data Preprocessing (20 points)\n",
        "\n",
        "Our dataset needs cleaning before building any models. Some of the cleaning tasks are common in general, but depends on what kind of models we are building, sometimes we have to do additional processing. These additional tasks will be mentioned in each of the remaining two exercises later.\n",
        "\n",
        "Note that **we will be using this processed data from exercise 1 in each of the remaining two exercises**.\n",
        "\n",
        "For convenience, here are the attributes that we would treat them as **categorical attributes**: `day`, `quarter`, `department`, and `team`.\n",
        "\n",
        " - Drop the column `date`.\n",
        " - For each of the categorical attributes, **print out** all the unique elements.\n",
        " - For each of the categorical attributes, remap the duplicated items, if you find there are typos or spaces among the duplicated items.\n",
        "     - For example, \"a\" and \"a \" should be the same, so we need to update \"a \" to be \"a\".\n",
        "     - Another example, \"apple\" and \"appel\" should be the same, so you should update \"appel\" to be \"apple\".\n",
        "     \n",
        "\n",
        " - Create another column named `satisfied` that records the productivity performance. The behavior defined as follows. **This is the dependent variable we'd like to classify in this assignment.**\n",
        "     - Return True or 1 if `actual_productivity` is equal to or greater than `targeted_productivity`. Otherwise, return False or 0, which means the team fails to meet the expected performance.\n",
        " - Drop the columns `actual_productivity` and `targeted_productivity`.\n",
        "\n",
        "\n",
        " - Find and **print out** which columns/attributes that have empty vaules, e.g., NA, NaN, null, None.\n",
        " - Fill the empty values with 0.\n"
      ]
    },
    {
      "cell_type": "code",
      "execution_count": null,
      "metadata": {
        "id": "hP-Qh9Nm7gY9"
      },
      "outputs": [],
      "source": [
        "import pandas as pd\n",
        "# If put the data(.csv) under the same folder, you could use\n",
        "# df = pd.read_csv('./garments_worker_productivity.csv')"
      ]
    },
    {
      "cell_type": "markdown",
      "metadata": {
        "id": "o_Ui1K1a7gY-"
      },
      "source": [
        "## Exercise 2 - Naïve Bayes Classifier (40 points in total)\n",
        "\n",
        "### Exercise 2.1 - Additional Data Preprocessing (10 points)\n",
        "\n",
        "To build a Naïve Bayes Classifier, we need to further encode our categorical variables.\n",
        "\n",
        " - For each of the **categorical attribtues**, encode the set of categories to be **0 ~ (n_classes - 1)**.\n",
        "     - For example, \\[\"paris\", \"paris\", \"tokyo\", \"amsterdam\"\\] should be encoded as \\[1, 1, 2, 0\\].\n",
        "     - Note that the order does not really matter, i.e., \\[0, 0, 1, 2\\] also works. But you have to start with 0 in your encodings.\n",
        "     - You can find information about this encoding in the discussion materials.\n",
        "\n",
        "\n",
        " - Split the data into training and testing set with the ratio of 80:20."
      ]
    },
    {
      "cell_type": "code",
      "execution_count": null,
      "metadata": {
        "id": "qe1K53wf7gY_"
      },
      "outputs": [],
      "source": [
        "# Remember to continue the task with your processed data from Exercise 1"
      ]
    },
    {
      "cell_type": "markdown",
      "metadata": {
        "id": "BIKtljxJ7gZA"
      },
      "source": [
        "### Exercise 2.2 - Naïve Bayes Classifier for Categorical Attributes (15 points)\n",
        "\n",
        "Use the categorical attributes **only**, please build a Categorical Naïve Bayes classifier that predicts the column `satisfied`. <br >\n",
        "Report the **testing result** using `classification_report`."
      ]
    },
    {
      "cell_type": "code",
      "execution_count": null,
      "metadata": {
        "id": "T4rN1jOx7gZB"
      },
      "outputs": [],
      "source": [
        "# Remember to do this task with your processed data from Exercise 2.1"
      ]
    },
    {
      "cell_type": "markdown",
      "metadata": {
        "id": "QuiO1EfG7gZC"
      },
      "source": [
        "### Exercise 2.3 - Naïve Bayes Classifier for Numerical Attributes (15 points)\n",
        "\n",
        "Use the numerical attributes **only**, please build a Gaussian Naïve Bayes classifier that predicts the column `satisfied`. <br >\n",
        "Report the **testing result** using `classification_report`.\n",
        "\n",
        "**Remember to scale your data. The scaling method is up to you.**"
      ]
    },
    {
      "cell_type": "code",
      "execution_count": null,
      "metadata": {
        "id": "lNDZ0LGO7gZE"
      },
      "outputs": [],
      "source": [
        "# Remember to do this task with your processed data from Exercise 2.1"
      ]
    },
    {
      "cell_type": "markdown",
      "metadata": {
        "id": "RRExMRlx7gZF"
      },
      "source": [
        "## Exercies 3 - SVM Classifier (35 points in total)\n",
        "\n",
        "### Exercise 3.1 - Additional Data Preprocessing (10 points)\n",
        "\n",
        "To build a SVM Classifier, we need a different encoding for our categorical variables.\n",
        "\n",
        " - For each of the **categorical attribtues**, encode them with **one-hot encoding**.\n",
        "     - You can find information about this encoding in the discussion materials.\n",
        "\n",
        "\n",
        " - Split the data into training and testing set with the ratio of 80:20.\n"
      ]
    },
    {
      "cell_type": "code",
      "execution_count": null,
      "metadata": {
        "id": "yPhLqrlA7gZF"
      },
      "outputs": [],
      "source": [
        "# Remember to continue the task with your processed data from Exercise 1"
      ]
    },
    {
      "cell_type": "markdown",
      "metadata": {
        "id": "43zeNOoa7gZG"
      },
      "source": [
        "### Exercise 3.2 - SVM with Different Kernels (15 points)\n",
        "\n",
        "Using all the attributes we have, please build a SVM that predicts the column `satisfied`. <br >\n",
        "Specifically, please\n",
        " - Build one SVM with **linear kernel**.\n",
        " - Build another SVM but with **rbf kernel**.\n",
        " - Report the **testing results** of **both models** using `classification report`.\n",
        "\n",
        "The kernel is the only setting requirement. <br >\n",
        "Other hyperparameter tuning is not required. But make sure they are the same in these two SVMs if you'd like to tune the model. In other words, the only difference between the two SVMs should be the kernel setting.\n",
        "\n",
        "**Remember to scale your data. The scaling method is up to you.**"
      ]
    },
    {
      "cell_type": "code",
      "execution_count": null,
      "metadata": {
        "id": "edl1zzWg7gZG"
      },
      "outputs": [],
      "source": [
        "# Remember to do this task with your processed data from Exercise 3.1"
      ]
    },
    {
      "cell_type": "markdown",
      "metadata": {
        "id": "x34A1Gol7gZG"
      },
      "source": [
        "### Exercise 3.3 - SVM with Over-sampling (10 points)\n",
        " - For the column `satisfied` in our **training set**, please **print out** the frequency of each class.\n",
        " - Oversample the **training data**.\n",
        " - For the column `satisfied` in the oversampled data, **print out** the frequency of each class  again.\n",
        " - Re-build the 2 SVMs with the same setting you have in Exercise 3.2, but **use oversampled training data** instead.\n",
        "     - Do not forget to scale the data first. As always, the scaling method is up to you.\n",
        " - Report the **testing result** with `classification_report`.\n",
        "\n",
        "You can use ANY methods listed on [here](https://imbalanced-learn.org/stable/references/over_sampling.html#) such as RandomOverSampler or SMOTE. <br >\n",
        "You are definitely welcomed to build your own oversampler. <br >\n",
        "\n",
        "Note that you do not have to over-sample your testing data."
      ]
    },
    {
      "cell_type": "code",
      "execution_count": null,
      "metadata": {
        "id": "kLsd3FCZ7gZG"
      },
      "outputs": [],
      "source": [
        "# Remember to do this task with your processed data from Exercise 3.1"
      ]
    },
    {
      "cell_type": "markdown",
      "source": [
        "## 4) Collaborative Statement (5 points)\n",
        "#### You must fill this out even if you worked alone to get credit.\n",
        "\n",
        "It is mandatory to include a Statement of Collaboration in each submission, that follows the guidelines below.\n",
        "Include the names of everyone involved in the discussions (especially in-person ones), and what was discussed.\n",
        "All students are required to follow the academic honesty guidelines posted on the course website. For\n",
        "programming assignments in particular, I encourage students to organize (perhaps using Piazza) to discuss the\n",
        "task descriptions, requirements, possible bugs in the support code, and the relevant technical content before they\n",
        "start working on it. However, you should not discuss the specific solutions, and as a guiding principle, you are\n",
        "not allowed to take anything written or drawn away from these discussions (no photographs of the blackboard,\n",
        "written notes, referring to Piazza, etc.). Especially after you have started working on the assignment, try to restrict\n",
        "the discussion to Piazza as much as possible, so that there is no doubt as to the extent of your collaboration."
      ],
      "metadata": {
        "id": "NghAaQwm7o6S"
      }
    },
    {
      "cell_type": "markdown",
      "source": [],
      "metadata": {
        "id": "zAGHaltx7usH"
      }
    }
  ],
  "metadata": {
    "kernelspec": {
      "display_name": "Python 3",
      "language": "python",
      "name": "python3"
    },
    "language_info": {
      "codemirror_mode": {
        "name": "ipython",
        "version": 3
      },
      "file_extension": ".py",
      "mimetype": "text/x-python",
      "name": "python",
      "nbconvert_exporter": "python",
      "pygments_lexer": "ipython3",
      "version": "3.8.10"
    },
    "colab": {
      "provenance": []
    }
  },
  "nbformat": 4,
  "nbformat_minor": 0
}