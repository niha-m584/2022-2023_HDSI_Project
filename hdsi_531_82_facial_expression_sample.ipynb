{
 "cells": [
  {
   "cell_type": "code",
   "execution_count": 50,
   "metadata": {},
   "outputs": [
    {
     "name": "stdout",
     "output_type": "stream",
     "text": [
      "... row # 100\n",
      "... row # 200\n",
      "... row # 300\n",
      "... row # 400\n",
      "... row # 500\n",
      "... row # 600\n"
     ]
    }
   ],
   "source": [
    "# importing libraries\n",
    "import pandas as pd\n",
    "import numpy as np\n",
    "import matplotlib.pyplot as plt\n",
    "from sklearn.model_selection import train_test_split\n",
    "from keras.utils import np_utils\n",
    "shuffle_setting = True\n",
    "fn = 'trv2_data8_0.5_1000.csv'\n",
    "file_location = 'code2\\\\'+fn\n",
    "bres=64\n",
    "def load_data():\n",
    "  dataset = pd.read_csv(file_location)\n",
    "  dataset = dataset.iloc[1:800, :]\n",
    "  images = []\n",
    "  nrow=0\n",
    "  for img in dataset.pixels:\n",
    "    nrow += 1\n",
    "    if (nrow%100 == 0 ): \n",
    "        print(\"... row # {}\".format(nrow))\n",
    "    reshapedImage = np.fromstring(img, dtype=float, sep=' ').reshape(bres, bres)\n",
    "    images.append(reshapedImage);\n",
    "  emotions = pd.get_dummies(dataset.emotion).values.astype('float32')\n",
    "  return images, emotions\n",
    "\n",
    "np.random.seed(100)\n",
    "images, emotions = load_data()\n",
    "\n",
    "# Splitting data into train, test and validation\n",
    "X_train, X_rem, y_train, y_rem = train_test_split(images, emotions, train_size=0.8,\\\n",
    "                                                  shuffle=shuffle_setting)"
   ]
  },
  {
   "cell_type": "code",
   "execution_count": 52,
   "metadata": {},
   "outputs": [],
   "source": [
    "test_size = 0.5\n",
    "X_valid, X_test, y_valid, y_test = train_test_split(X_rem,y_rem, test_size=0.5, shuffle=False)\n",
    "def type_cast(data):\n",
    "    return np.array(data, 'float32')\n",
    "X_train = type_cast(X_train)\n",
    "X_test = type_cast(X_test)\n",
    "X_valid = type_cast(X_valid)\n",
    "X_train = X_train.reshape(X_train.shape[0], bres,bres,1)\n",
    "X_test = X_test.reshape(X_test.shape[0],    bres, bres,1)\n",
    "X_valid = X_valid.reshape(X_valid.shape[0], bres, bres,1)"
   ]
  },
  {
   "cell_type": "code",
   "execution_count": 53,
   "metadata": {},
   "outputs": [],
   "source": [
    "from keras.models import Sequential\n",
    "from keras.layers import Dense, Dropout, Flatten\n",
    "from keras.layers import Conv2D, MaxPooling2D, BatchNormalization\n",
    "from keras.losses import categorical_crossentropy\n",
    "from tensorflow.keras.optimizers import Adam\n",
    "from keras.models import Model\n",
    "from keras.preprocessing.image import ImageDataGenerator"
   ]
  },
  {
   "cell_type": "code",
   "execution_count": 54,
   "metadata": {},
   "outputs": [],
   "source": [
    "epochs = 70\n",
    "path = './'"
   ]
  },
  {
   "cell_type": "code",
   "execution_count": 55,
   "metadata": {},
   "outputs": [],
   "source": [
    "preproc = ImageDataGenerator(rotation_range=20,width_shift_range=0.2,\n",
    "            height_shift_range=0.2,horizontal_flip=True,\n",
    "    featurewise_std_normalization=False,zoom_range=.2)"
   ]
  },
  {
   "cell_type": "markdown",
   "metadata": {},
   "source": [
    "# Model structure"
   ]
  },
  {
   "cell_type": "code",
   "execution_count": 56,
   "metadata": {},
   "outputs": [],
   "source": [
    "model = Sequential()\n",
    "model.add(Conv2D(32,(3,3),padding='same' ,input_shape=(bres, bres,1), \n",
    "                 activation='relu'))\n",
    "model.add(BatchNormalization())\n",
    "model.add(MaxPooling2D(pool_size=(2,2)))\n",
    "model.add(Conv2D(32,(3,3),padding='same', activation='relu'))\n",
    "model.add(BatchNormalization())\n",
    "model.add(MaxPooling2D(pool_size=(2,2)))\n",
    "model.add(Conv2D(128,(3,3),padding='same', activation='relu'))\n",
    "model.add(BatchNormalization())\n",
    "model.add(MaxPooling2D(pool_size=(2,2)))\n",
    "model.add(Conv2D(256,(3,3),padding='same', activation='relu'))\n",
    "model.add(BatchNormalization())\n",
    "model.add(MaxPooling2D(pool_size=(2,2)))\n",
    "model.add(Flatten())\n",
    "model.add(Dense(256, activation='relu'))\n",
    "model.add(Dense(128, activation='relu'))\n",
    "model.add(Dense(64, activation='relu'))\n",
    "model.add(Dense(7, activation='softmax'))"
   ]
  },
  {
   "cell_type": "code",
   "execution_count": 57,
   "metadata": {
    "scrolled": true
   },
   "outputs": [
    {
     "name": "stdout",
     "output_type": "stream",
     "text": [
      "Model: \"sequential_2\"\n",
      "_________________________________________________________________\n",
      " Layer (type)                Output Shape              Param #   \n",
      "=================================================================\n",
      " conv2d_8 (Conv2D)           (None, 64, 64, 32)        320       \n",
      "                                                                 \n",
      " batch_normalization_8 (Batc  (None, 64, 64, 32)       128       \n",
      " hNormalization)                                                 \n",
      "                                                                 \n",
      " max_pooling2d_8 (MaxPooling  (None, 32, 32, 32)       0         \n",
      " 2D)                                                             \n",
      "                                                                 \n",
      " conv2d_9 (Conv2D)           (None, 32, 32, 32)        9248      \n",
      "                                                                 \n",
      " batch_normalization_9 (Batc  (None, 32, 32, 32)       128       \n",
      " hNormalization)                                                 \n",
      "                                                                 \n",
      " max_pooling2d_9 (MaxPooling  (None, 16, 16, 32)       0         \n",
      " 2D)                                                             \n",
      "                                                                 \n",
      " conv2d_10 (Conv2D)          (None, 16, 16, 128)       36992     \n",
      "                                                                 \n",
      " batch_normalization_10 (Bat  (None, 16, 16, 128)      512       \n",
      " chNormalization)                                                \n",
      "                                                                 \n",
      " max_pooling2d_10 (MaxPoolin  (None, 8, 8, 128)        0         \n",
      " g2D)                                                            \n",
      "                                                                 \n",
      " conv2d_11 (Conv2D)          (None, 8, 8, 256)         295168    \n",
      "                                                                 \n",
      " batch_normalization_11 (Bat  (None, 8, 8, 256)        1024      \n",
      " chNormalization)                                                \n",
      "                                                                 \n",
      " max_pooling2d_11 (MaxPoolin  (None, 4, 4, 256)        0         \n",
      " g2D)                                                            \n",
      "                                                                 \n",
      " flatten_2 (Flatten)         (None, 4096)              0         \n",
      "                                                                 \n",
      " dense_8 (Dense)             (None, 256)               1048832   \n",
      "                                                                 \n",
      " dense_9 (Dense)             (None, 128)               32896     \n",
      "                                                                 \n",
      " dense_10 (Dense)            (None, 64)                8256      \n",
      "                                                                 \n",
      " dense_11 (Dense)            (None, 7)                 455       \n",
      "                                                                 \n",
      "=================================================================\n",
      "Total params: 1,433,959\n",
      "Trainable params: 1,433,063\n",
      "Non-trainable params: 896\n",
      "_________________________________________________________________\n"
     ]
    }
   ],
   "source": [
    "model.compile(loss='categorical_crossentropy', metrics=['accuracy'], \\\n",
    "              optimizer='adam')\n",
    "model.summary()"
   ]
  },
  {
   "cell_type": "code",
   "execution_count": 58,
   "metadata": {},
   "outputs": [],
   "source": [
    "from keras.callbacks import CSVLogger, ModelCheckpoint, EarlyStopping, ReduceLROnPlateau\n",
    "log_file_path = path + 'painlevel.log'\n",
    "clogger = CSVLogger(log_file_path, append=False)\n",
    "estop = EarlyStopping(monitor='val_loss',patience=6, verbose=1,\n",
    "                 restore_best_weights=True)\n",
    "chkpt = ModelCheckpoint(path + 'painlevel.ckpt',\n",
    "                             save_weights_only=True,\n",
    "                             verbose=1)\n",
    "callbacks = [clogger, estop, chkpt]"
   ]
  },
  {
   "cell_type": "markdown",
   "metadata": {},
   "source": [
    "# Model training"
   ]
  },
  {
   "cell_type": "code",
   "execution_count": 59,
   "metadata": {
    "scrolled": true
   },
   "outputs": [
    {
     "name": "stdout",
     "output_type": "stream",
     "text": [
      "Epoch 1/70\n",
      "9/8 [==============================] - ETA: 0s - loss: 1.5165 - accuracy: 0.5789\n",
      "Epoch 1: saving model to .\\painlevel.ckpt\n",
      "8/8 [==============================] - 10s 995ms/step - loss: 1.5165 - accuracy: 0.5789 - val_loss: 9.5799 - val_accuracy: 0.7143\n",
      "Epoch 2/70\n",
      "9/8 [==============================] - ETA: 0s - loss: 0.9729 - accuracy: 0.6738\n",
      "Epoch 2: saving model to .\\painlevel.ckpt\n",
      "8/8 [==============================] - 7s 834ms/step - loss: 0.9729 - accuracy: 0.6738 - val_loss: 7.4352 - val_accuracy: 0.7143\n",
      "Epoch 3/70\n",
      "9/8 [==============================] - ETA: 0s - loss: 0.8298 - accuracy: 0.7294\n",
      "Epoch 3: saving model to .\\painlevel.ckpt\n",
      "8/8 [==============================] - 7s 834ms/step - loss: 0.8298 - accuracy: 0.7294 - val_loss: 8.3115 - val_accuracy: 0.7143\n",
      "Epoch 4/70\n",
      "9/8 [==============================] - ETA: 0s - loss: 0.7348 - accuracy: 0.7258\n",
      "Epoch 4: saving model to .\\painlevel.ckpt\n",
      "8/8 [==============================] - 9s 1s/step - loss: 0.7348 - accuracy: 0.7258 - val_loss: 6.6170 - val_accuracy: 0.7143\n",
      "Epoch 5/70\n",
      "9/8 [==============================] - ETA: 0s - loss: 0.7565 - accuracy: 0.7222\n",
      "Epoch 5: saving model to .\\painlevel.ckpt\n",
      "8/8 [==============================] - 8s 899ms/step - loss: 0.7565 - accuracy: 0.7222 - val_loss: 4.2728 - val_accuracy: 0.7143\n",
      "Epoch 6/70\n",
      "9/8 [==============================] - ETA: 0s - loss: 0.6328 - accuracy: 0.7509\n",
      "Epoch 6: saving model to .\\painlevel.ckpt\n",
      "8/8 [==============================] - 8s 899ms/step - loss: 0.6328 - accuracy: 0.7509 - val_loss: 4.2384 - val_accuracy: 0.7143\n",
      "Epoch 7/70\n",
      "9/8 [==============================] - ETA: 0s - loss: 0.6462 - accuracy: 0.7706\n",
      "Epoch 7: saving model to .\\painlevel.ckpt\n",
      "8/8 [==============================] - 7s 854ms/step - loss: 0.6462 - accuracy: 0.7706 - val_loss: 4.4302 - val_accuracy: 0.7143\n",
      "Epoch 8/70\n",
      "9/8 [==============================] - ETA: 0s - loss: 0.6431 - accuracy: 0.7491\n",
      "Epoch 8: saving model to .\\painlevel.ckpt\n",
      "8/8 [==============================] - 7s 841ms/step - loss: 0.6431 - accuracy: 0.7491 - val_loss: 4.2546 - val_accuracy: 0.7143\n",
      "Epoch 9/70\n",
      "9/8 [==============================] - ETA: 0s - loss: 0.6176 - accuracy: 0.7670\n",
      "Epoch 9: saving model to .\\painlevel.ckpt\n",
      "8/8 [==============================] - 10s 1s/step - loss: 0.6176 - accuracy: 0.7670 - val_loss: 3.6455 - val_accuracy: 0.7143\n",
      "Epoch 10/70\n",
      "9/8 [==============================] - ETA: 0s - loss: 0.5876 - accuracy: 0.7778\n",
      "Epoch 10: saving model to .\\painlevel.ckpt\n",
      "8/8 [==============================] - 12s 1s/step - loss: 0.5876 - accuracy: 0.7778 - val_loss: 4.2659 - val_accuracy: 0.7143\n",
      "Epoch 11/70\n",
      "9/8 [==============================] - ETA: 0s - loss: 0.5719 - accuracy: 0.7814\n",
      "Epoch 11: saving model to .\\painlevel.ckpt\n",
      "8/8 [==============================] - 12s 1s/step - loss: 0.5719 - accuracy: 0.7814 - val_loss: 2.7205 - val_accuracy: 0.7143\n",
      "Epoch 12/70\n",
      "9/8 [==============================] - ETA: 0s - loss: 0.5911 - accuracy: 0.7581\n",
      "Epoch 12: saving model to .\\painlevel.ckpt\n",
      "8/8 [==============================] - 7s 850ms/step - loss: 0.5911 - accuracy: 0.7581 - val_loss: 2.2583 - val_accuracy: 0.7143\n",
      "Epoch 13/70\n",
      "9/8 [==============================] - ETA: 0s - loss: 0.5344 - accuracy: 0.7867\n",
      "Epoch 13: saving model to .\\painlevel.ckpt\n",
      "8/8 [==============================] - 7s 851ms/step - loss: 0.5344 - accuracy: 0.7867 - val_loss: 2.2266 - val_accuracy: 0.7143\n",
      "Epoch 14/70\n",
      "9/8 [==============================] - ETA: 0s - loss: 0.5184 - accuracy: 0.7742\n",
      "Epoch 14: saving model to .\\painlevel.ckpt\n",
      "8/8 [==============================] - 8s 940ms/step - loss: 0.5184 - accuracy: 0.7742 - val_loss: 2.4294 - val_accuracy: 0.7143\n",
      "Epoch 15/70\n",
      "9/8 [==============================] - ETA: 0s - loss: 0.4822 - accuracy: 0.8065\n",
      "Epoch 15: saving model to .\\painlevel.ckpt\n",
      "8/8 [==============================] - 7s 858ms/step - loss: 0.4822 - accuracy: 0.8065 - val_loss: 2.6353 - val_accuracy: 0.7143\n",
      "Epoch 16/70\n",
      "9/8 [==============================] - ETA: 0s - loss: 0.4859 - accuracy: 0.8118\n",
      "Epoch 16: saving model to .\\painlevel.ckpt\n",
      "8/8 [==============================] - 7s 850ms/step - loss: 0.4859 - accuracy: 0.8118 - val_loss: 2.5937 - val_accuracy: 0.7143\n",
      "Epoch 17/70\n",
      "9/8 [==============================] - ETA: 0s - loss: 0.4713 - accuracy: 0.8333\n",
      "Epoch 17: saving model to .\\painlevel.ckpt\n",
      "8/8 [==============================] - 7s 842ms/step - loss: 0.4713 - accuracy: 0.8333 - val_loss: 1.9566 - val_accuracy: 0.7571\n",
      "Epoch 18/70\n",
      "9/8 [==============================] - ETA: 0s - loss: 0.4672 - accuracy: 0.8100\n",
      "Epoch 18: saving model to .\\painlevel.ckpt\n",
      "8/8 [==============================] - 8s 923ms/step - loss: 0.4672 - accuracy: 0.8100 - val_loss: 2.2034 - val_accuracy: 0.7143\n",
      "Epoch 19/70\n",
      "9/8 [==============================] - ETA: 0s - loss: 0.4532 - accuracy: 0.8369\n",
      "Epoch 19: saving model to .\\painlevel.ckpt\n",
      "8/8 [==============================] - 7s 869ms/step - loss: 0.4532 - accuracy: 0.8369 - val_loss: 3.0172 - val_accuracy: 0.7143\n",
      "Epoch 20/70\n",
      "9/8 [==============================] - ETA: 0s - loss: 0.4881 - accuracy: 0.8154\n",
      "Epoch 20: saving model to .\\painlevel.ckpt\n",
      "8/8 [==============================] - 9s 1s/step - loss: 0.4881 - accuracy: 0.8154 - val_loss: 3.2187 - val_accuracy: 0.7143\n",
      "Epoch 21/70\n",
      "9/8 [==============================] - ETA: 0s - loss: 0.4945 - accuracy: 0.8029\n",
      "Epoch 21: saving model to .\\painlevel.ckpt\n",
      "8/8 [==============================] - 7s 852ms/step - loss: 0.4945 - accuracy: 0.8029 - val_loss: 3.6327 - val_accuracy: 0.7143\n",
      "Epoch 22/70\n",
      "9/8 [==============================] - ETA: 0s - loss: 0.4778 - accuracy: 0.8082\n",
      "Epoch 22: saving model to .\\painlevel.ckpt\n",
      "8/8 [==============================] - 7s 834ms/step - loss: 0.4778 - accuracy: 0.8082 - val_loss: 2.2278 - val_accuracy: 0.7286\n",
      "Epoch 23/70\n",
      "9/8 [==============================] - ETA: 0s - loss: 0.4303 - accuracy: 0.8315Restoring model weights from the end of the best epoch: 17.\n",
      "\n",
      "Epoch 23: saving model to .\\painlevel.ckpt\n",
      "8/8 [==============================] - 9s 1s/step - loss: 0.4303 - accuracy: 0.8315 - val_loss: 2.5582 - val_accuracy: 0.7143\n",
      "Epoch 23: early stopping\n"
     ]
    }
   ],
   "source": [
    "m = model.fit(preproc.flow(X_train, y_train, 64), \n",
    "                    validation_data = (X_valid, y_valid),\n",
    "                    shuffle = True,\n",
    "                    verbose = 1,\n",
    "                    epochs = epochs, \n",
    "                    steps_per_epoch = len(X_train)/64,\n",
    "                    callbacks = callbacks)"
   ]
  },
  {
   "cell_type": "code",
   "execution_count": 60,
   "metadata": {},
   "outputs": [
    {
     "name": "stdout",
     "output_type": "stream",
     "text": [
      "3/3 [==============================] - 0s 59ms/step - loss: 2.0871 - accuracy: 0.7571\n"
     ]
    }
   ],
   "source": [
    "model.evaluate(X_test, y_test)\n",
    "model.save('./painlevel_'+str(bres)+\"_\"+fn+'.hdf5')"
   ]
  },
  {
   "cell_type": "markdown",
   "metadata": {},
   "source": [
    "# Visualization"
   ]
  },
  {
   "cell_type": "code",
   "execution_count": 61,
   "metadata": {
    "scrolled": true
   },
   "outputs": [
    {
     "data": {
      "text/plain": [
       "<matplotlib.legend.Legend at 0x20b3f1594f0>"
      ]
     },
     "execution_count": 61,
     "metadata": {},
     "output_type": "execute_result"
    },
    {
     "data": {
      "image/png": "[encoded data removed]",
      "text/plain": [
       "<Figure size 720x360 with 1 Axes>"
      ]
     },
     "metadata": {
      "needs_background": "light"
     },
     "output_type": "display_data"
    }
   ],
   "source": [
    "# Read the log file from the drive\n",
    "log = pd.read_csv('./painlevel.log')\n",
    "\n",
    "# Plotting the figure of accuracy and validation accuracy over epoch\n",
    "plt.figure(figsize=(10,5))\n",
    "# Plot the data from the model\n",
    "plt.plot(m.history['accuracy'], label='Accuracy')\n",
    "plt.plot(m.history['val_accuracy'], label='Validation Accuracy')\n",
    "plt.legend()"
   ]
  },
  {
   "cell_type": "code",
   "execution_count": 62,
   "metadata": {},
   "outputs": [
    {
     "data": {
      "text/plain": [
       "<matplotlib.legend.Legend at 0x20b3f7af670>"
      ]
     },
     "execution_count": 62,
     "metadata": {},
     "output_type": "execute_result"
    },
    {
     "data": {
      "image/png": "[encoded data removed]",
      "text/plain": [
       "<Figure size 720x360 with 1 Axes>"
      ]
     },
     "metadata": {
      "needs_background": "light"
     },
     "output_type": "display_data"
    }
   ],
   "source": [
    "plt.figure(figsize=(10,5))\n",
    "plt.plot(m.history['loss'], label='Train data loss')\n",
    "plt.plot(m.history['val_loss'], label='Validation data loss')\n",
    "plt.legend()"
   ]
  },
  {
   "cell_type": "code",
   "execution_count": 63,
   "metadata": {},
   "outputs": [
    {
     "name": "stdout",
     "output_type": "stream",
     "text": [
      "3/3 [==============================] - 0s 52ms/step\n"
     ]
    },
    {
     "data": {
      "text/plain": [
       "<AxesSubplot:>"
      ]
     },
     "execution_count": 63,
     "metadata": {},
     "output_type": "execute_result"
    },
    {
     "data": {
      "image/png": "[encoded data removed]",
      "text/plain": [
       "<Figure size 1296x720 with 2 Axes>"
      ]
     },
     "metadata": {
      "needs_background": "light"
     },
     "output_type": "display_data"
    }
   ],
   "source": [
    "from sklearn.metrics import confusion_matrix\n",
    "import seaborn as sns\n",
    "test_data_prediction = model.predict(X_test).argmax(axis=1)\n",
    "label_x_test = np.array(y_test)\n",
    "label_x_test = np.where(label_x_test)[1]\n",
    "confusion_matrix_values = confusion_matrix(label_x_test, test_data_prediction)\n",
    "plt.figure(figsize = (18,10))\n",
    "sns.heatmap(confusion_matrix_values/np.sum(confusion_matrix_values), \n",
    "            annot=True, fmt='0.2%', cmap='Reds')"
   ]
  },
  {
   "cell_type": "code",
   "execution_count": 64,
   "metadata": {
    "scrolled": true
   },
   "outputs": [
    {
     "data": {
      "text/plain": [
       "<AxesSubplot:xlabel='emotion', ylabel='count'>"
      ]
     },
     "execution_count": 64,
     "metadata": {},
     "output_type": "execute_result"
    },
    {
     "data": {
      "image/png": "[encoded data removed]",
      "text/plain": [
       "<Figure size 1296x720 with 1 Axes>"
      ]
     },
     "metadata": {
      "needs_background": "light"
     },
     "output_type": "display_data"
    }
   ],
   "source": [
    "plt.figure(figsize = (18,10))\n",
    "dataset = pd.read_csv(file_location)\n",
    "sns.countplot(x='emotion', data = dataset)"
   ]
  },
  {
   "cell_type": "markdown",
   "metadata": {},
   "source": [
    "# Prediction"
   ]
  },
  {
   "cell_type": "code",
   "execution_count": 65,
   "metadata": {},
   "outputs": [],
   "source": [
    "from PIL import Image\n",
    "import tensorflow as tf \n",
    "import cv2\n",
    "expressions = range(15)\n",
    "mfile='painlevel_'+str(bres)+\"_\"+fn+'.hdf5'\n",
    "model = tf.keras.models.load_model(mfile)\n",
    "def predict(val, flg=0, v=-1, mver=\"ttnn\"):\n",
    "  img = X_test[val].reshape(1,bres,bres,1)\n",
    "  if flg & 8:\n",
    "        print(X_test[val])\n",
    "  if flg& 1:\n",
    "        plt.imshow(X_test[val].reshape(bres, bres) ,cmap='gray')\n",
    "        plt.show()\n",
    "  act = expressions[np.argmax(y_test[val])]\n",
    "  if flg & 2:\n",
    "        print(\"Actual : \", act)\n",
    "  if v > -1:\n",
    "       tmpmodel = tf.keras.models.load_model('emotion_'+str(bres)+'v'+str(ver)+\"_mver_\"+mver+'.hdf5')\n",
    "  else:\n",
    "       tmpmodel = model   \n",
    "  pred = expressions[np.argmax(tmpmodel.predict(img)[0])]\n",
    "  if flg & 2:\n",
    "        print(\"Predicted: \", pred)\n",
    "  return act, pred"
   ]
  },
  {
   "cell_type": "code",
   "execution_count": 66,
   "metadata": {
    "scrolled": true
   },
   "outputs": [
    {
     "data": {
      "image/png": "[encoded data removed]",
      "text/plain": [
       "<Figure size 432x288 with 1 Axes>"
      ]
     },
     "metadata": {
      "needs_background": "light"
     },
     "output_type": "display_data"
    },
    {
     "name": "stdout",
     "output_type": "stream",
     "text": [
      "1/1 [==============================] - 0s 196ms/step\n",
      "file .//code2//subflat//VW121T1AAAFF071.png prediction is 4\n"
     ]
    },
    {
     "data": {
      "text/plain": [
       "4"
      ]
     },
     "execution_count": 66,
     "metadata": {},
     "output_type": "execute_result"
    }
   ],
   "source": [
    "def predictimg(fname, flg=27, v=-1, mver=\"ttnn\"): \n",
    "    img = cv2.imread(fname, cv2.IMREAD_GRAYSCALE)\n",
    "    img4 = cv2.resize(img, (bres,bres))\n",
    "    img5=img4.reshape(1,bres, bres,1)\n",
    "    if flg & 8:\n",
    "        print('type:', type(img5[0][0][0]), ' len:', len(img5[0][0][0]))\n",
    "        for i in range(bres):\n",
    "            s1 = ' '.join([str(*img5[0][i][j]) for j in range(bres)])\n",
    "            print(s1)\n",
    "    if v > -1:\n",
    "        tmpmodel = tf.keras.models.load_model('emotion_'+str(bres)+'v'+str(ver)+\"_mver_\"+mver+'.hdf5')\n",
    "    else:\n",
    "        tmpmodel = model      \n",
    "    if flg & 2:\n",
    "        plt.imshow(img5.reshape(bres, bres) )#,cmap='gray')\n",
    "        plt.show()\n",
    "    if flg & 16:\n",
    "        img6 = type_cast(img4)\n",
    "        img7 = img6.reshape(1,bres, bres, 1)\n",
    "    else:\n",
    "        img7 = img5\n",
    "    prediction = expressions[np.argmax(tmpmodel.predict(img7)[0])]\n",
    "    if flg & 1:\n",
    "        print('file {0} prediction is {1}'.format(fname, prediction))\n",
    "    return prediction\n",
    "\n",
    "predictimg(\".//code2//subflat//VW121T1AAAFF071.png\", 19)"
   ]
  },
  {
   "cell_type": "code",
   "execution_count": 67,
   "metadata": {},
   "outputs": [
    {
     "name": "stdout",
     "output_type": "stream",
     "text": [
      "1/1 [==============================] - 0s 31ms/step\n",
      "1/1 [==============================] - 0s 32ms/step\n",
      "1/1 [==============================] - 0s 32ms/step\n",
      "1/1 [==============================] - 0s 34ms/step\n",
      "1/1 [==============================] - 0s 32ms/step\n",
      "1/1 [==============================] - 0s 32ms/step\n",
      "5 1 0\n",
      "1/1 [==============================] - 0s 34ms/step\n",
      "1/1 [==============================] - 0s 32ms/step\n",
      "1/1 [==============================] - 0s 32ms/step\n",
      "1/1 [==============================] - 0s 33ms/step\n",
      "1/1 [==============================] - 0s 36ms/step\n",
      "10 2 4\n",
      "1/1 [==============================] - 0s 33ms/step\n",
      "11 3 4\n",
      "1/1 [==============================] - 0s 35ms/step\n",
      "12 1 0\n",
      "1/1 [==============================] - 0s 35ms/step\n",
      "1/1 [==============================] - 0s 32ms/step\n",
      "1/1 [==============================] - 0s 32ms/step\n",
      "1/1 [==============================] - 0s 33ms/step\n",
      "1/1 [==============================] - 0s 32ms/step\n",
      "1/1 [==============================] - 0s 34ms/step\n",
      "1/1 [==============================] - 0s 33ms/step\n",
      "1/1 [==============================] - 0s 32ms/step\n",
      "1/1 [==============================] - 0s 33ms/step\n",
      "1/1 [==============================] - 0s 32ms/step\n",
      "1/1 [==============================] - 0s 31ms/step\n",
      "1/1 [==============================] - 0s 31ms/step\n",
      "1/1 [==============================] - 0s 31ms/step\n",
      "1/1 [==============================] - 0s 31ms/step\n",
      "1/1 [==============================] - 0s 30ms/step\n",
      "27 1 0\n",
      "1/1 [==============================] - 0s 32ms/step\n",
      "28 5 4\n",
      "1/1 [==============================] - 0s 33ms/step\n",
      "1/1 [==============================] - 0s 32ms/step\n",
      "1/1 [==============================] - 0s 33ms/step\n",
      "1/1 [==============================] - 0s 33ms/step\n",
      "1/1 [==============================] - 0s 33ms/step\n",
      "33 1 0\n",
      "1/1 [==============================] - 0s 31ms/step\n",
      "1/1 [==============================] - 0s 30ms/step\n",
      "1/1 [==============================] - 0s 32ms/step\n",
      "1/1 [==============================] - 0s 32ms/step\n",
      "1/1 [==============================] - 0s 31ms/step\n",
      "1/1 [==============================] - 0s 33ms/step\n",
      "1/1 [==============================] - 0s 33ms/step\n",
      "40 5 4\n",
      "1/1 [==============================] - 0s 32ms/step\n",
      "41 1 4\n",
      "1/1 [==============================] - 0s 33ms/step\n",
      "1/1 [==============================] - 0s 31ms/step\n",
      "43 1 4\n",
      "1/1 [==============================] - 0s 31ms/step\n",
      "1/1 [==============================] - 0s 34ms/step\n",
      "1/1 [==============================] - 0s 36ms/step\n",
      "46 5 4\n",
      "1/1 [==============================] - 0s 33ms/step\n",
      "1/1 [==============================] - 0s 34ms/step\n",
      "1/1 [==============================] - 0s 33ms/step\n",
      "accuracy test: 78.0\n"
     ]
    }
   ],
   "source": [
    "match=0\n",
    "net=50\n",
    "for i in range(0,net ):\n",
    "    act, pred = predict(i)\n",
    "    #if (act != 0):\n",
    "    #    print(act)\n",
    "    if (act == pred):\n",
    "          match+=1\n",
    "    else:\n",
    "          print(f'{i} {act} {pred}')\n",
    "print(f\"accuracy test: {match*100/net}\")"
   ]
  },
  {
   "cell_type": "code",
   "execution_count": null,
   "metadata": {},
   "outputs": [],
   "source": []
  }
 ],
 "metadata": {
  "kernelspec": {
   "display_name": "Python 3 (ipykernel)",
   "language": "python",
   "name": "python3"
  },
  "language_info": {
   "codemirror_mode": {
    "name": "ipython",
    "version": 3
   },
   "file_extension": ".py",
   "mimetype": "text/x-python",
   "name": "python",
   "nbconvert_exporter": "python",
   "pygments_lexer": "ipython3",
   "version": "3.9.0"
  }
 },
 "nbformat": 4,
 "nbformat_minor": 4
}
