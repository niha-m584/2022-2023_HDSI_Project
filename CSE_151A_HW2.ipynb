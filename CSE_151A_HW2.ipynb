{
  "cells": [
    {
      "cell_type": "markdown",
      "id": "0ceeeb46",
      "metadata": {
        "id": "0ceeeb46"
      },
      "source": [
        "# Homework 2\n",
        "\n",
        "For this assignment, you will be developing an artificial neural network to classify data given in the __[Dry Beans Data Set](https://archive.ics.uci.edu/ml/datasets/Dry+Bean+Dataset#)__. This data set was obtained as a part of a research study by Selcuk University, Turkey, in which a computer vision system was developed to distinguish seven different registered varieties of dry beans with similar features. More details on the study can be found in the following __[research paper](https://www.sciencedirect.com/science/article/pii/S0168169919311573)__. <br>\n",
        "**Make sure to use the lecture notebook on an introduction to keras and cross validation located [here](https://colab.research.google.com/drive/1ksEGL7SJ_wutCIyPYx7Loe5EPdOij6dJ?usp=sharing) and [here](https://colab.research.google.com/drive/1C9Mwf1J2ril1Q4l6n2BjQMb8YaFySG5_?usp=sharing)**.\n",
        "\n",
        "## About the Data Set\n",
        "Seven different types of dry beans were used in a study in Selcuk University, Turkey, taking into account the features such as form, shape, type, and structure by the market situation. A computer vision system was developed to distinguish seven different registered varieties of dry beans with similar features in order to obtain uniform seed classification. For the classification model, images of 13611 grains of 7 different registered dry beans were taken with a high-resolution camera. Bean images obtained by computer vision system were subjected to segmentation and feature extraction stages, and a total of 16 features - 12 dimensions and 4 shape forms - were obtained from the grains.\n",
        "\n",
        "Number of Instances (records in the data set): __13611__\n",
        "\n",
        "Number of Attributes (fields within each record, including the class): __17__\n",
        "\n",
        "### Data Set Attribute Information:\n",
        "\n",
        "1. __Area (A)__ : The area of a bean zone and the number of pixels within its boundaries.\n",
        "2. __Perimeter (P)__ : Bean circumference is defined as the length of its border.\n",
        "3. __Major axis length (L)__ : The distance between the ends of the longest line that can be drawn from a bean.\n",
        "4. __Minor axis length (l)__ : The longest line that can be drawn from the bean while standing perpendicular to the main axis.\n",
        "5. __Aspect ratio (K)__ : Defines the relationship between L and l.\n",
        "6. __Eccentricity (Ec)__ : Eccentricity of the ellipse having the same moments as the region.\n",
        "7. __Convex area (C)__ : Number of pixels in the smallest convex polygon that can contain the area of a bean seed.\n",
        "8. __Equivalent diameter (Ed)__ : The diameter of a circle having the same area as a bean seed area.\n",
        "9. __Extent (Ex)__ : The ratio of the pixels in the bounding box to the bean area.\n",
        "10. __Solidity (S)__ : Also known as convexity. The ratio of the pixels in the convex shell to those found in beans.\n",
        "11. __Roundness (R)__ : Calculated with the following formula: (4piA)/(P^2)\n",
        "12. __Compactness (CO)__ : Measures the roundness of an object: Ed/L\n",
        "13. __ShapeFactor1 (SF1)__\n",
        "14. __ShapeFactor2 (SF2)__\n",
        "15. __ShapeFactor3 (SF3)__\n",
        "16. __ShapeFactor4 (SF4)__\n",
        "\n",
        "17. __Classes : *Seker, Barbunya, Bombay, Cali, Dermosan, Horoz, Sira*__"
      ]
    },
    {
      "cell_type": "markdown",
      "id": "61beac74",
      "metadata": {
        "id": "61beac74"
      },
      "source": [
        "### Libraries that can be used :\n",
        "- NumPy, SciPy, Pandas, Sci-Kit Learn, TensorFlow, Keras\n",
        "- Any other library used during the lectures and discussion sessions.\n",
        "\n",
        "### Other Notes\n",
        "- Don't worry about not being able to achieve high accuracy, it is neither the goal nor the grading standard of this assignment.\n",
        "- Discussion and Lecture materials should be helpful for doing the assignments.\n",
        "- The homework submission should be a .ipynb file.\n"
      ]
    },
    {
      "cell_type": "markdown",
      "id": "0264c751",
      "metadata": {
        "id": "0264c751"
      },
      "source": [
        "\n",
        "## Exercise 1 : Building a Feed-Forward Neural Network(50 points)\n",
        "\n",
        "### Exercise 1.1 : Data Preprocessing (10 points)\n",
        "\n",
        "- As the classes are categorical, use one-hot encoding to represent the set of classes. You will find this useful when developing the output layer of the neural network.\n",
        "- Normalize each field of the input data using the min-max normalization technique.\n",
        "\n"
      ]
    },
    {
      "cell_type": "code",
      "source": [],
      "metadata": {
        "id": "1St-29dI04l3"
      },
      "id": "1St-29dI04l3",
      "execution_count": null,
      "outputs": []
    },
    {
      "cell_type": "markdown",
      "source": [
        "### Exercise 1.2 : Training and Testing the Neural Network (40 points)\n",
        "\n",
        "Design a 4-layer artificial neural network, specifically a feed-forward multi-layer perceptron (using the sigmoid activation function), to classify the type of 'Dry Bean' given the other attributes in the data set, similar to the one mentioned in the paper above. Please note that this is a multi-class classification problem so select the right number of nodes accordingly for the output layer.\n",
        "\n",
        "For training and testing the model, split the data into training and testing set by __90:10__ and use the training set for training the model and the test set to evaluate the model performance.\n",
        "\n",
        "Consider the following hyperparameters while developing your model :\n",
        "\n",
        "- Model type: Keras Sequential\n",
        "- Number and type of layers: 4 and Dense\n",
        "- Number of nodes in each hidden layer: 12\n",
        "- Learning rate should be 0.3\n",
        "- Number of epochs should be 100\n",
        "- The sigmoid function should be used as the activation function in each layer\n",
        "- Stochastic Gradient Descent should be used to minimize the error rate\n",
        "\n",
        "__Requirements once the model has been trained :__\n",
        "\n",
        "- A confusion matrix for all classes, specifying the true positive, true negative, false positive, and false negative cases for each category in the class\n",
        "- The accuracy and mean squared error (MSE) of the model\n",
        "- The precision and recall for each label in the class\n",
        "\n",
        "__Notes :__\n",
        "\n",
        "- Splitting of the dataset should be done __after__ the data preprocessing step.\n",
        "- The mean squared error (MSE) values obtained __should be positive__.\n"
      ],
      "metadata": {
        "id": "o4QPlcYa0sHN"
      },
      "id": "o4QPlcYa0sHN"
    },
    {
      "cell_type": "code",
      "source": [],
      "metadata": {
        "id": "KhW7lew706U8"
      },
      "id": "KhW7lew706U8",
      "execution_count": null,
      "outputs": []
    },
    {
      "cell_type": "markdown",
      "id": "083f5188",
      "metadata": {
        "id": "083f5188"
      },
      "source": [
        "## Exercise 2 : k-fold Cross Validation (20 points)\n",
        "\n",
        "In order to avoid using biased models, use 10-fold cross validation to generalize the model from Ex1.2 on the given data set. You can choose a n_repeats value of 1-5\n",
        "\n",
        "__Requirements :__\n",
        "- Print the accuracy and MSE values during each iteration of the cross validation\n",
        "- Print the overall average accuracy and MSE value\n",
        "\n",
        "__Note :__ The mean squared error (MSE) values obtained should be positive."
      ]
    },
    {
      "cell_type": "code",
      "source": [],
      "metadata": {
        "id": "tu8rIov607s4"
      },
      "id": "tu8rIov607s4",
      "execution_count": null,
      "outputs": []
    },
    {
      "cell_type": "markdown",
      "id": "cef874c5",
      "metadata": {
        "id": "cef874c5"
      },
      "source": [
        "## Exercise 3 : Hyperparameter Tuning (25 points)\n",
        "\n",
        "Use either grid search or random search methodology to find the optimal number of nodes required in each hidden layer, as well as the optimal learning rate and the number of epochs, such that the accuracy of the model is maximum for the given data set.\n",
        "\n",
        "__Requirements :__\n",
        "- The set of optimal hyperparameters\n",
        "- The maximum accuracy achieved using this set of optimal hyperparameters\n",
        "\n",
        "__Note :__ Hyperparameter tuning takes a lot of time to execute. Make sure that you choose the appropriate number of each hyperparameter (preferably 3 of each), and that you allocate enough time to execute your code."
      ]
    },
    {
      "cell_type": "code",
      "execution_count": null,
      "id": "5572c87d",
      "metadata": {
        "id": "5572c87d"
      },
      "outputs": [],
      "source": []
    },
    {
      "cell_type": "markdown",
      "source": [
        "## Exercise 4 - Collaborative Statement (5 points)\n",
        "\n",
        "It is mandatory to include a Statement of Collaboration in each submission, that follows the guidelines below.\n",
        "Include the names of everyone involved in the discussions (especially in-person ones), and what was discussed.\n",
        "All students are required to follow the academic honesty guidelines posted on the course website. For\n",
        "programming assignments in particular, I encourage students to organize (perhaps using Piazza) to discuss the\n",
        "task descriptions, requirements, possible bugs in the support code, and the relevant technical content before they\n",
        "start working on it. However, you should not discuss the specific solutions, and as a guiding principle, you are\n",
        "not allowed to take anything written or drawn away from these discussions (no photographs of the blackboard,\n",
        "written notes, referring to Piazza, etc.). Especially after you have started working on the assignment, try to restrict\n",
        "the discussion to Piazza as much as possible, so that there is no doubt as to the extent of your collaboration."
      ],
      "metadata": {
        "id": "nPfZ4mzk09EI"
      },
      "id": "nPfZ4mzk09EI"
    },
    {
      "cell_type": "code",
      "source": [],
      "metadata": {
        "id": "5Cawhjqe09Q6"
      },
      "id": "5Cawhjqe09Q6",
      "execution_count": null,
      "outputs": []
    }
  ],
  "metadata": {
    "kernelspec": {
      "display_name": "Python 3",
      "language": "python",
      "name": "python3"
    },
    "language_info": {
      "codemirror_mode": {
        "name": "ipython",
        "version": 3
      },
      "file_extension": ".py",
      "mimetype": "text/x-python",
      "name": "python",
      "nbconvert_exporter": "python",
      "pygments_lexer": "ipython3",
      "version": "3.8.10"
    },
    "colab": {
      "provenance": []
    }
  },
  "nbformat": 4,
  "nbformat_minor": 5
}